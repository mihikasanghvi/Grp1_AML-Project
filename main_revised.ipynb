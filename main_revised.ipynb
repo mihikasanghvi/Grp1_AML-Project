{
 "cells": [
  {
   "cell_type": "code",
   "execution_count": 1,
   "id": "18c985b8",
   "metadata": {},
   "outputs": [
    {
     "name": "stdout",
     "output_type": "stream",
     "text": [
      "Requirement already satisfied: lightgbm in c:\\users\\swzwilliam111\\anaconda3\\lib\\site-packages (4.6.0)\n",
      "Requirement already satisfied: scipy in c:\\users\\swzwilliam111\\anaconda3\\lib\\site-packages (from lightgbm) (1.10.1)\n",
      "Requirement already satisfied: numpy>=1.17.0 in c:\\users\\swzwilliam111\\anaconda3\\lib\\site-packages (from lightgbm) (1.22.4)\n"
     ]
    }
   ],
   "source": [
    "!pip install lightgbm"
   ]
  },
  {
   "cell_type": "code",
   "execution_count": 2,
   "id": "be9f4fa0",
   "metadata": {},
   "outputs": [],
   "source": [
    "import pandas as pd\n",
    "from sklearn.model_selection import train_test_split\n",
    "from sklearn.metrics import accuracy_score, recall_score, f1_score, roc_auc_score, classification_report\n",
    "import xgboost as xgb\n",
    "import lightgbm as lgb\n",
    "\n",
    "from lightgbm import LGBMClassifier"
   ]
  },
  {
   "cell_type": "code",
   "execution_count": 3,
   "id": "e5f05eb6",
   "metadata": {},
   "outputs": [],
   "source": [
    "df = pd.read_csv('Cleaned_Dry_Eye_Dataset.csv')\n",
    "# 添加 BMI（体重(kg) / 身高(m)^2）\n",
    "df['BMI'] = df['Weight'] / (df['Height'] / 100) ** 2\n",
    "\n",
    "# 添加 HighBP（高血压指标：收缩压>130 或 舒张压>85）\n",
    "df['HighBP'] = ((df['Systolic BP'] > 130) | (df['Diastolic BP'] > 85)).astype(int)\n"
   ]
  },
  {
   "cell_type": "code",
   "execution_count": 4,
   "id": "f44f2a04",
   "metadata": {},
   "outputs": [
    {
     "data": {
      "text/html": [
       "<div>\n",
       "<style scoped>\n",
       "    .dataframe tbody tr th:only-of-type {\n",
       "        vertical-align: middle;\n",
       "    }\n",
       "\n",
       "    .dataframe tbody tr th {\n",
       "        vertical-align: top;\n",
       "    }\n",
       "\n",
       "    .dataframe thead th {\n",
       "        text-align: right;\n",
       "    }\n",
       "</style>\n",
       "<table border=\"1\" class=\"dataframe\">\n",
       "  <thead>\n",
       "    <tr style=\"text-align: right;\">\n",
       "      <th></th>\n",
       "      <th>Age</th>\n",
       "      <th>Sleep duration</th>\n",
       "      <th>Sleep quality</th>\n",
       "      <th>Stress level</th>\n",
       "      <th>Heart rate</th>\n",
       "      <th>Daily steps</th>\n",
       "      <th>Physical activity</th>\n",
       "      <th>Height</th>\n",
       "      <th>Weight</th>\n",
       "      <th>Sleep disorder</th>\n",
       "      <th>...</th>\n",
       "      <th>Average screen time</th>\n",
       "      <th>Blue-light filter</th>\n",
       "      <th>Discomfort Eye-strain</th>\n",
       "      <th>Redness in eye</th>\n",
       "      <th>Itchiness/Irritation in eye</th>\n",
       "      <th>Systolic BP</th>\n",
       "      <th>Diastolic BP</th>\n",
       "      <th>Gender_M</th>\n",
       "      <th>BMI</th>\n",
       "      <th>HighBP</th>\n",
       "    </tr>\n",
       "  </thead>\n",
       "  <tbody>\n",
       "    <tr>\n",
       "      <th>0</th>\n",
       "      <td>24</td>\n",
       "      <td>9.5</td>\n",
       "      <td>2</td>\n",
       "      <td>1</td>\n",
       "      <td>67</td>\n",
       "      <td>3000</td>\n",
       "      <td>31</td>\n",
       "      <td>161</td>\n",
       "      <td>69</td>\n",
       "      <td>1</td>\n",
       "      <td>...</td>\n",
       "      <td>8.7</td>\n",
       "      <td>0</td>\n",
       "      <td>1</td>\n",
       "      <td>1</td>\n",
       "      <td>0</td>\n",
       "      <td>137</td>\n",
       "      <td>89</td>\n",
       "      <td>False</td>\n",
       "      <td>26.619343</td>\n",
       "      <td>1</td>\n",
       "    </tr>\n",
       "    <tr>\n",
       "      <th>1</th>\n",
       "      <td>39</td>\n",
       "      <td>9.6</td>\n",
       "      <td>2</td>\n",
       "      <td>3</td>\n",
       "      <td>60</td>\n",
       "      <td>12000</td>\n",
       "      <td>74</td>\n",
       "      <td>164</td>\n",
       "      <td>87</td>\n",
       "      <td>0</td>\n",
       "      <td>...</td>\n",
       "      <td>9.6</td>\n",
       "      <td>1</td>\n",
       "      <td>0</td>\n",
       "      <td>0</td>\n",
       "      <td>1</td>\n",
       "      <td>108</td>\n",
       "      <td>64</td>\n",
       "      <td>True</td>\n",
       "      <td>32.346817</td>\n",
       "      <td>0</td>\n",
       "    </tr>\n",
       "    <tr>\n",
       "      <th>2</th>\n",
       "      <td>45</td>\n",
       "      <td>5.4</td>\n",
       "      <td>1</td>\n",
       "      <td>5</td>\n",
       "      <td>95</td>\n",
       "      <td>12000</td>\n",
       "      <td>93</td>\n",
       "      <td>179</td>\n",
       "      <td>94</td>\n",
       "      <td>1</td>\n",
       "      <td>...</td>\n",
       "      <td>4.0</td>\n",
       "      <td>0</td>\n",
       "      <td>1</td>\n",
       "      <td>0</td>\n",
       "      <td>0</td>\n",
       "      <td>134</td>\n",
       "      <td>81</td>\n",
       "      <td>False</td>\n",
       "      <td>29.337411</td>\n",
       "      <td>1</td>\n",
       "    </tr>\n",
       "    <tr>\n",
       "      <th>3</th>\n",
       "      <td>45</td>\n",
       "      <td>5.4</td>\n",
       "      <td>4</td>\n",
       "      <td>5</td>\n",
       "      <td>78</td>\n",
       "      <td>19000</td>\n",
       "      <td>32</td>\n",
       "      <td>160</td>\n",
       "      <td>77</td>\n",
       "      <td>0</td>\n",
       "      <td>...</td>\n",
       "      <td>7.6</td>\n",
       "      <td>0</td>\n",
       "      <td>1</td>\n",
       "      <td>0</td>\n",
       "      <td>1</td>\n",
       "      <td>110</td>\n",
       "      <td>90</td>\n",
       "      <td>False</td>\n",
       "      <td>30.078125</td>\n",
       "      <td>1</td>\n",
       "    </tr>\n",
       "    <tr>\n",
       "      <th>4</th>\n",
       "      <td>42</td>\n",
       "      <td>5.7</td>\n",
       "      <td>3</td>\n",
       "      <td>2</td>\n",
       "      <td>72</td>\n",
       "      <td>4000</td>\n",
       "      <td>173</td>\n",
       "      <td>179</td>\n",
       "      <td>99</td>\n",
       "      <td>0</td>\n",
       "      <td>...</td>\n",
       "      <td>3.5</td>\n",
       "      <td>0</td>\n",
       "      <td>1</td>\n",
       "      <td>1</td>\n",
       "      <td>0</td>\n",
       "      <td>99</td>\n",
       "      <td>67</td>\n",
       "      <td>False</td>\n",
       "      <td>30.897912</td>\n",
       "      <td>0</td>\n",
       "    </tr>\n",
       "    <tr>\n",
       "      <th>...</th>\n",
       "      <td>...</td>\n",
       "      <td>...</td>\n",
       "      <td>...</td>\n",
       "      <td>...</td>\n",
       "      <td>...</td>\n",
       "      <td>...</td>\n",
       "      <td>...</td>\n",
       "      <td>...</td>\n",
       "      <td>...</td>\n",
       "      <td>...</td>\n",
       "      <td>...</td>\n",
       "      <td>...</td>\n",
       "      <td>...</td>\n",
       "      <td>...</td>\n",
       "      <td>...</td>\n",
       "      <td>...</td>\n",
       "      <td>...</td>\n",
       "      <td>...</td>\n",
       "      <td>...</td>\n",
       "      <td>...</td>\n",
       "      <td>...</td>\n",
       "    </tr>\n",
       "    <tr>\n",
       "      <th>19995</th>\n",
       "      <td>26</td>\n",
       "      <td>9.4</td>\n",
       "      <td>2</td>\n",
       "      <td>3</td>\n",
       "      <td>91</td>\n",
       "      <td>20000</td>\n",
       "      <td>88</td>\n",
       "      <td>200</td>\n",
       "      <td>72</td>\n",
       "      <td>0</td>\n",
       "      <td>...</td>\n",
       "      <td>3.8</td>\n",
       "      <td>0</td>\n",
       "      <td>1</td>\n",
       "      <td>0</td>\n",
       "      <td>1</td>\n",
       "      <td>132</td>\n",
       "      <td>64</td>\n",
       "      <td>True</td>\n",
       "      <td>18.000000</td>\n",
       "      <td>1</td>\n",
       "    </tr>\n",
       "    <tr>\n",
       "      <th>19996</th>\n",
       "      <td>39</td>\n",
       "      <td>7.3</td>\n",
       "      <td>3</td>\n",
       "      <td>4</td>\n",
       "      <td>65</td>\n",
       "      <td>2000</td>\n",
       "      <td>53</td>\n",
       "      <td>195</td>\n",
       "      <td>96</td>\n",
       "      <td>1</td>\n",
       "      <td>...</td>\n",
       "      <td>3.8</td>\n",
       "      <td>0</td>\n",
       "      <td>0</td>\n",
       "      <td>1</td>\n",
       "      <td>0</td>\n",
       "      <td>101</td>\n",
       "      <td>75</td>\n",
       "      <td>False</td>\n",
       "      <td>25.246548</td>\n",
       "      <td>0</td>\n",
       "    </tr>\n",
       "    <tr>\n",
       "      <th>19997</th>\n",
       "      <td>20</td>\n",
       "      <td>8.0</td>\n",
       "      <td>5</td>\n",
       "      <td>3</td>\n",
       "      <td>78</td>\n",
       "      <td>10000</td>\n",
       "      <td>17</td>\n",
       "      <td>186</td>\n",
       "      <td>87</td>\n",
       "      <td>0</td>\n",
       "      <td>...</td>\n",
       "      <td>8.4</td>\n",
       "      <td>0</td>\n",
       "      <td>0</td>\n",
       "      <td>1</td>\n",
       "      <td>0</td>\n",
       "      <td>124</td>\n",
       "      <td>63</td>\n",
       "      <td>False</td>\n",
       "      <td>25.147416</td>\n",
       "      <td>0</td>\n",
       "    </tr>\n",
       "    <tr>\n",
       "      <th>19998</th>\n",
       "      <td>38</td>\n",
       "      <td>4.5</td>\n",
       "      <td>3</td>\n",
       "      <td>3</td>\n",
       "      <td>60</td>\n",
       "      <td>3000</td>\n",
       "      <td>115</td>\n",
       "      <td>170</td>\n",
       "      <td>66</td>\n",
       "      <td>0</td>\n",
       "      <td>...</td>\n",
       "      <td>2.2</td>\n",
       "      <td>0</td>\n",
       "      <td>0</td>\n",
       "      <td>0</td>\n",
       "      <td>1</td>\n",
       "      <td>136</td>\n",
       "      <td>70</td>\n",
       "      <td>True</td>\n",
       "      <td>22.837370</td>\n",
       "      <td>1</td>\n",
       "    </tr>\n",
       "    <tr>\n",
       "      <th>19999</th>\n",
       "      <td>37</td>\n",
       "      <td>5.0</td>\n",
       "      <td>5</td>\n",
       "      <td>3</td>\n",
       "      <td>73</td>\n",
       "      <td>13000</td>\n",
       "      <td>57</td>\n",
       "      <td>188</td>\n",
       "      <td>62</td>\n",
       "      <td>0</td>\n",
       "      <td>...</td>\n",
       "      <td>4.2</td>\n",
       "      <td>1</td>\n",
       "      <td>0</td>\n",
       "      <td>0</td>\n",
       "      <td>0</td>\n",
       "      <td>96</td>\n",
       "      <td>90</td>\n",
       "      <td>True</td>\n",
       "      <td>17.541874</td>\n",
       "      <td>1</td>\n",
       "    </tr>\n",
       "  </tbody>\n",
       "</table>\n",
       "<p>20000 rows × 28 columns</p>\n",
       "</div>"
      ],
      "text/plain": [
       "       Age  Sleep duration  Sleep quality  Stress level  Heart rate  \\\n",
       "0       24             9.5              2             1          67   \n",
       "1       39             9.6              2             3          60   \n",
       "2       45             5.4              1             5          95   \n",
       "3       45             5.4              4             5          78   \n",
       "4       42             5.7              3             2          72   \n",
       "...    ...             ...            ...           ...         ...   \n",
       "19995   26             9.4              2             3          91   \n",
       "19996   39             7.3              3             4          65   \n",
       "19997   20             8.0              5             3          78   \n",
       "19998   38             4.5              3             3          60   \n",
       "19999   37             5.0              5             3          73   \n",
       "\n",
       "       Daily steps  Physical activity  Height  Weight  Sleep disorder  ...  \\\n",
       "0             3000                 31     161      69               1  ...   \n",
       "1            12000                 74     164      87               0  ...   \n",
       "2            12000                 93     179      94               1  ...   \n",
       "3            19000                 32     160      77               0  ...   \n",
       "4             4000                173     179      99               0  ...   \n",
       "...            ...                ...     ...     ...             ...  ...   \n",
       "19995        20000                 88     200      72               0  ...   \n",
       "19996         2000                 53     195      96               1  ...   \n",
       "19997        10000                 17     186      87               0  ...   \n",
       "19998         3000                115     170      66               0  ...   \n",
       "19999        13000                 57     188      62               0  ...   \n",
       "\n",
       "       Average screen time  Blue-light filter  Discomfort Eye-strain  \\\n",
       "0                      8.7                  0                      1   \n",
       "1                      9.6                  1                      0   \n",
       "2                      4.0                  0                      1   \n",
       "3                      7.6                  0                      1   \n",
       "4                      3.5                  0                      1   \n",
       "...                    ...                ...                    ...   \n",
       "19995                  3.8                  0                      1   \n",
       "19996                  3.8                  0                      0   \n",
       "19997                  8.4                  0                      0   \n",
       "19998                  2.2                  0                      0   \n",
       "19999                  4.2                  1                      0   \n",
       "\n",
       "       Redness in eye  Itchiness/Irritation in eye  Systolic BP  Diastolic BP  \\\n",
       "0                   1                            0          137            89   \n",
       "1                   0                            1          108            64   \n",
       "2                   0                            0          134            81   \n",
       "3                   0                            1          110            90   \n",
       "4                   1                            0           99            67   \n",
       "...               ...                          ...          ...           ...   \n",
       "19995               0                            1          132            64   \n",
       "19996               1                            0          101            75   \n",
       "19997               1                            0          124            63   \n",
       "19998               0                            1          136            70   \n",
       "19999               0                            0           96            90   \n",
       "\n",
       "       Gender_M        BMI  HighBP  \n",
       "0         False  26.619343       1  \n",
       "1          True  32.346817       0  \n",
       "2         False  29.337411       1  \n",
       "3         False  30.078125       1  \n",
       "4         False  30.897912       0  \n",
       "...         ...        ...     ...  \n",
       "19995      True  18.000000       1  \n",
       "19996     False  25.246548       0  \n",
       "19997     False  25.147416       0  \n",
       "19998      True  22.837370       1  \n",
       "19999      True  17.541874       1  \n",
       "\n",
       "[20000 rows x 28 columns]"
      ]
     },
     "execution_count": 4,
     "metadata": {},
     "output_type": "execute_result"
    }
   ],
   "source": [
    "target_column = 'Dry Eye Disease'\n",
    "X = df.drop(columns=[target_column])\n",
    "y = df[target_column]\n",
    "\n",
    "X"
   ]
  },
  {
   "cell_type": "markdown",
   "id": "cf06bd94",
   "metadata": {},
   "source": [
    "### Train test split"
   ]
  },
  {
   "cell_type": "code",
   "execution_count": 5,
   "id": "453ef973",
   "metadata": {},
   "outputs": [],
   "source": [
    "X_train, X_test, y_train, y_test = train_test_split(\n",
    "    X, y, test_size=0.2, stratify=y, random_state=42\n",
    ")"
   ]
  },
  {
   "cell_type": "code",
   "execution_count": 6,
   "id": "3c825a40",
   "metadata": {},
   "outputs": [],
   "source": [
    "def test_performance(model, X_train, y_train, X_test, y_test):\n",
    "    model.fit(X_train, y_train)\n",
    "    y_pred = model.predict(X_test)\n",
    "    y_pred_proba = model.predict_proba(X_test)[:, 1]\n",
    "\n",
    "    print(\"Accuracy:\", accuracy_score(y_test, y_pred))\n",
    "    print(\"Recall:\", recall_score(y_test, y_pred))\n",
    "    print(\"F1 Score:\", f1_score(y_test, y_pred))\n",
    "    print(\"ROC AUC:\", roc_auc_score(y_test, y_pred_proba))\n",
    "    print(\"\\nClassification Report:\\n\", classification_report(y_test, y_pred))"
   ]
  },
  {
   "cell_type": "markdown",
   "id": "6722d0d5",
   "metadata": {},
   "source": [
    "# XGBoost Default Model"
   ]
  },
  {
   "cell_type": "code",
   "execution_count": 7,
   "id": "1abacdb6",
   "metadata": {},
   "outputs": [
    {
     "data": {
      "text/html": [
       "<style>#sk-container-id-1 {color: black;}#sk-container-id-1 pre{padding: 0;}#sk-container-id-1 div.sk-toggleable {background-color: white;}#sk-container-id-1 label.sk-toggleable__label {cursor: pointer;display: block;width: 100%;margin-bottom: 0;padding: 0.3em;box-sizing: border-box;text-align: center;}#sk-container-id-1 label.sk-toggleable__label-arrow:before {content: \"▸\";float: left;margin-right: 0.25em;color: #696969;}#sk-container-id-1 label.sk-toggleable__label-arrow:hover:before {color: black;}#sk-container-id-1 div.sk-estimator:hover label.sk-toggleable__label-arrow:before {color: black;}#sk-container-id-1 div.sk-toggleable__content {max-height: 0;max-width: 0;overflow: hidden;text-align: left;background-color: #f0f8ff;}#sk-container-id-1 div.sk-toggleable__content pre {margin: 0.2em;color: black;border-radius: 0.25em;background-color: #f0f8ff;}#sk-container-id-1 input.sk-toggleable__control:checked~div.sk-toggleable__content {max-height: 200px;max-width: 100%;overflow: auto;}#sk-container-id-1 input.sk-toggleable__control:checked~label.sk-toggleable__label-arrow:before {content: \"▾\";}#sk-container-id-1 div.sk-estimator input.sk-toggleable__control:checked~label.sk-toggleable__label {background-color: #d4ebff;}#sk-container-id-1 div.sk-label input.sk-toggleable__control:checked~label.sk-toggleable__label {background-color: #d4ebff;}#sk-container-id-1 input.sk-hidden--visually {border: 0;clip: rect(1px 1px 1px 1px);clip: rect(1px, 1px, 1px, 1px);height: 1px;margin: -1px;overflow: hidden;padding: 0;position: absolute;width: 1px;}#sk-container-id-1 div.sk-estimator {font-family: monospace;background-color: #f0f8ff;border: 1px dotted black;border-radius: 0.25em;box-sizing: border-box;margin-bottom: 0.5em;}#sk-container-id-1 div.sk-estimator:hover {background-color: #d4ebff;}#sk-container-id-1 div.sk-parallel-item::after {content: \"\";width: 100%;border-bottom: 1px solid gray;flex-grow: 1;}#sk-container-id-1 div.sk-label:hover label.sk-toggleable__label {background-color: #d4ebff;}#sk-container-id-1 div.sk-serial::before {content: \"\";position: absolute;border-left: 1px solid gray;box-sizing: border-box;top: 0;bottom: 0;left: 50%;z-index: 0;}#sk-container-id-1 div.sk-serial {display: flex;flex-direction: column;align-items: center;background-color: white;padding-right: 0.2em;padding-left: 0.2em;position: relative;}#sk-container-id-1 div.sk-item {position: relative;z-index: 1;}#sk-container-id-1 div.sk-parallel {display: flex;align-items: stretch;justify-content: center;background-color: white;position: relative;}#sk-container-id-1 div.sk-item::before, #sk-container-id-1 div.sk-parallel-item::before {content: \"\";position: absolute;border-left: 1px solid gray;box-sizing: border-box;top: 0;bottom: 0;left: 50%;z-index: -1;}#sk-container-id-1 div.sk-parallel-item {display: flex;flex-direction: column;z-index: 1;position: relative;background-color: white;}#sk-container-id-1 div.sk-parallel-item:first-child::after {align-self: flex-end;width: 50%;}#sk-container-id-1 div.sk-parallel-item:last-child::after {align-self: flex-start;width: 50%;}#sk-container-id-1 div.sk-parallel-item:only-child::after {width: 0;}#sk-container-id-1 div.sk-dashed-wrapped {border: 1px dashed gray;margin: 0 0.4em 0.5em 0.4em;box-sizing: border-box;padding-bottom: 0.4em;background-color: white;}#sk-container-id-1 div.sk-label label {font-family: monospace;font-weight: bold;display: inline-block;line-height: 1.2em;}#sk-container-id-1 div.sk-label-container {text-align: center;}#sk-container-id-1 div.sk-container {/* jupyter's `normalize.less` sets `[hidden] { display: none; }` but bootstrap.min.css set `[hidden] { display: none !important; }` so we also need the `!important` here to be able to override the default hidden behavior on the sphinx rendered scikit-learn.org. See: https://github.com/scikit-learn/scikit-learn/issues/21755 */display: inline-block !important;position: relative;}#sk-container-id-1 div.sk-text-repr-fallback {display: none;}</style><div id=\"sk-container-id-1\" class=\"sk-top-container\"><div class=\"sk-text-repr-fallback\"><pre>XGBClassifier(base_score=None, booster=None, callbacks=None,\n",
       "              colsample_bylevel=None, colsample_bynode=None,\n",
       "              colsample_bytree=None, device=None, early_stopping_rounds=None,\n",
       "              enable_categorical=False, eval_metric=&#x27;logloss&#x27;,\n",
       "              feature_types=None, gamma=None, grow_policy=None,\n",
       "              importance_type=None, interaction_constraints=None,\n",
       "              learning_rate=None, max_bin=None, max_cat_threshold=None,\n",
       "              max_cat_to_onehot=None, max_delta_step=None, max_depth=None,\n",
       "              max_leaves=None, min_child_weight=None, missing=nan,\n",
       "              monotone_constraints=None, multi_strategy=None, n_estimators=None,\n",
       "              n_jobs=None, num_parallel_tree=None, random_state=42, ...)</pre><b>In a Jupyter environment, please rerun this cell to show the HTML representation or trust the notebook. <br />On GitHub, the HTML representation is unable to render, please try loading this page with nbviewer.org.</b></div><div class=\"sk-container\" hidden><div class=\"sk-item\"><div class=\"sk-estimator sk-toggleable\"><input class=\"sk-toggleable__control sk-hidden--visually\" id=\"sk-estimator-id-1\" type=\"checkbox\" checked><label for=\"sk-estimator-id-1\" class=\"sk-toggleable__label sk-toggleable__label-arrow\">XGBClassifier</label><div class=\"sk-toggleable__content\"><pre>XGBClassifier(base_score=None, booster=None, callbacks=None,\n",
       "              colsample_bylevel=None, colsample_bynode=None,\n",
       "              colsample_bytree=None, device=None, early_stopping_rounds=None,\n",
       "              enable_categorical=False, eval_metric=&#x27;logloss&#x27;,\n",
       "              feature_types=None, gamma=None, grow_policy=None,\n",
       "              importance_type=None, interaction_constraints=None,\n",
       "              learning_rate=None, max_bin=None, max_cat_threshold=None,\n",
       "              max_cat_to_onehot=None, max_delta_step=None, max_depth=None,\n",
       "              max_leaves=None, min_child_weight=None, missing=nan,\n",
       "              monotone_constraints=None, multi_strategy=None, n_estimators=None,\n",
       "              n_jobs=None, num_parallel_tree=None, random_state=42, ...)</pre></div></div></div></div></div>"
      ],
      "text/plain": [
       "XGBClassifier(base_score=None, booster=None, callbacks=None,\n",
       "              colsample_bylevel=None, colsample_bynode=None,\n",
       "              colsample_bytree=None, device=None, early_stopping_rounds=None,\n",
       "              enable_categorical=False, eval_metric='logloss',\n",
       "              feature_types=None, gamma=None, grow_policy=None,\n",
       "              importance_type=None, interaction_constraints=None,\n",
       "              learning_rate=None, max_bin=None, max_cat_threshold=None,\n",
       "              max_cat_to_onehot=None, max_delta_step=None, max_depth=None,\n",
       "              max_leaves=None, min_child_weight=None, missing=nan,\n",
       "              monotone_constraints=None, multi_strategy=None, n_estimators=None,\n",
       "              n_jobs=None, num_parallel_tree=None, random_state=42, ...)"
      ]
     },
     "execution_count": 7,
     "metadata": {},
     "output_type": "execute_result"
    }
   ],
   "source": [
    "model = xgb.XGBClassifier(eval_metric='logloss', random_state=42)\n",
    "model.fit(X_train, y_train)"
   ]
  },
  {
   "cell_type": "code",
   "execution_count": 8,
   "id": "32fefe14",
   "metadata": {},
   "outputs": [],
   "source": [
    "y_pred = model.predict(X_test)\n",
    "y_pred_proba = model.predict_proba(X_test)[:, 1]"
   ]
  },
  {
   "cell_type": "code",
   "execution_count": 9,
   "id": "43e6ece5",
   "metadata": {},
   "outputs": [
    {
     "name": "stdout",
     "output_type": "stream",
     "text": [
      "Accuracy: 0.66\n",
      "Recall: 0.8630609896432682\n",
      "F1 Score: 0.7679180887372016\n",
      "ROC AUC: 0.5781028546755917\n",
      "\n",
      "Classification Report:\n",
      "               precision    recall  f1-score   support\n",
      "\n",
      "           0       0.52      0.28      0.36      1393\n",
      "           1       0.69      0.86      0.77      2607\n",
      "\n",
      "    accuracy                           0.66      4000\n",
      "   macro avg       0.61      0.57      0.57      4000\n",
      "weighted avg       0.63      0.66      0.63      4000\n",
      "\n"
     ]
    }
   ],
   "source": [
    "print(\"Accuracy:\", accuracy_score(y_test, y_pred))\n",
    "print(\"Recall:\", recall_score(y_test, y_pred))\n",
    "print(\"F1 Score:\", f1_score(y_test, y_pred))\n",
    "print(\"ROC AUC:\", roc_auc_score(y_test, y_pred_proba))\n",
    "print(\"\\nClassification Report:\\n\", classification_report(y_test, y_pred))\n"
   ]
  },
  {
   "cell_type": "code",
   "execution_count": 10,
   "id": "5fff1256",
   "metadata": {},
   "outputs": [
    {
     "data": {
      "text/plain": [
       "<Figure size 720x576 with 0 Axes>"
      ]
     },
     "metadata": {},
     "output_type": "display_data"
    },
    {
     "data": {
      "image/png": "[encoded data removed]",
      "text/plain": [
       "<Figure size 432x288 with 1 Axes>"
      ]
     },
     "metadata": {
      "needs_background": "light"
     },
     "output_type": "display_data"
    }
   ],
   "source": [
    "from xgboost import plot_importance\n",
    "import matplotlib.pyplot as plt\n",
    "\n",
    "plt.figure(figsize=(10, 8))\n",
    "plot_importance(\n",
    "    model,  \n",
    "    importance_type='weight',  \n",
    "    max_num_features=20,   \n",
    "    height=0.3,\n",
    ")\n",
    "plt.title(\"Top 20 Feature Importances (XGBoost)\")\n",
    "plt.tight_layout()\n",
    "plt.show()\n"
   ]
  },
  {
   "cell_type": "code",
   "execution_count": 11,
   "id": "02eca95f",
   "metadata": {},
   "outputs": [
    {
     "data": {
      "image/png": "[encoded data removed]",
      "text/plain": [
       "<Figure size 432x288 with 2 Axes>"
      ]
     },
     "metadata": {
      "needs_background": "light"
     },
     "output_type": "display_data"
    }
   ],
   "source": [
    "from sklearn.metrics import ConfusionMatrixDisplay\n",
    "\n",
    "ConfusionMatrixDisplay.from_estimator(model, X_test, y_test, cmap='Blues')\n",
    "plt.title(\"Confusion Matrix\")\n",
    "plt.show()\n"
   ]
  },
  {
   "cell_type": "code",
   "execution_count": 12,
   "id": "fe8c0725",
   "metadata": {},
   "outputs": [
    {
     "data": {
      "image/png": "[encoded data removed]",
      "text/plain": [
       "<Figure size 432x288 with 1 Axes>"
      ]
     },
     "metadata": {
      "needs_background": "light"
     },
     "output_type": "display_data"
    }
   ],
   "source": [
    "from sklearn.metrics import roc_curve, auc\n",
    "\n",
    "fpr, tpr, _ = roc_curve(y_test, y_pred_proba)\n",
    "roc_auc = auc(fpr, tpr)\n",
    "\n",
    "plt.figure()\n",
    "plt.plot(fpr, tpr, label=f\"AUC = {roc_auc:.2f}\")\n",
    "plt.plot([0, 1], [0, 1], linestyle='--', color='gray')\n",
    "plt.xlabel(\"False Positive Rate\")\n",
    "plt.ylabel(\"True Positive Rate\")\n",
    "plt.title(\"ROC Curve\")\n",
    "plt.legend()\n",
    "plt.grid(True)\n",
    "plt.show()\n"
   ]
  },
  {
   "cell_type": "code",
   "execution_count": 13,
   "id": "b788510e",
   "metadata": {},
   "outputs": [
    {
     "data": {
      "image/png": "[encoded data removed]",
      "text/plain": [
       "<Figure size 432x288 with 1 Axes>"
      ]
     },
     "metadata": {
      "needs_background": "light"
     },
     "output_type": "display_data"
    }
   ],
   "source": [
    "from sklearn.metrics import precision_recall_curve\n",
    "\n",
    "precision, recall, _ = precision_recall_curve(y_test, y_pred_proba)\n",
    "\n",
    "plt.figure()\n",
    "plt.plot(recall, precision)\n",
    "plt.xlabel(\"Recall\")\n",
    "plt.ylabel(\"Precision\")\n",
    "plt.title(\"Precision-Recall Curve\")\n",
    "plt.grid(True)\n",
    "plt.show()\n"
   ]
  },
  {
   "cell_type": "markdown",
   "id": "2c516aaf",
   "metadata": {},
   "source": [
    "# LightGBM default model"
   ]
  },
  {
   "cell_type": "code",
   "execution_count": 14,
   "id": "c55f3f7b",
   "metadata": {},
   "outputs": [],
   "source": [
    "def print_metrics(y_test, y_pred_lgb, y_pred_lgb_prob):\n",
    "    print(\"Accuracy:\", round(accuracy_score(y_test, y_pred_lgb),4))\n",
    "    print(\"Recall:\", round(recall_score(y_test, y_pred_lgb),4))\n",
    "    print(\"F1 Score:\", round(f1_score(y_test, y_pred_lgb),4))\n",
    "    print(\"ROC AUC:\", round(roc_auc_score(y_test, y_pred_lgb_prob),4))\n",
    "    #print(\"\\nClassification Report:\\n\", classification_report(y_test, y_pred_lgb))"
   ]
  },
  {
   "cell_type": "code",
   "execution_count": 15,
   "id": "0c5b1630",
   "metadata": {},
   "outputs": [
    {
     "name": "stdout",
     "output_type": "stream",
     "text": [
      "[LightGBM] [Warning] Found whitespace in feature_names, replace with underlines\n",
      "[LightGBM] [Info] Number of positive: 10430, number of negative: 5570\n",
      "[LightGBM] [Info] Auto-choosing row-wise multi-threading, the overhead of testing was 0.000523 seconds.\n",
      "You can set `force_row_wise=true` to remove the overhead.\n",
      "And if memory is not enough, you can set `force_col_wise=true`.\n",
      "[LightGBM] [Info] Total Bins 912\n",
      "[LightGBM] [Info] Number of data points in the train set: 16000, number of used features: 28\n",
      "[LightGBM] [Info] [binary:BoostFromScore]: pavg=0.651875 -> initscore=0.627291\n",
      "[LightGBM] [Info] Start training from score 0.627291\n",
      "Accuracy: 0.7\n",
      "Recall: 0.9379\n",
      "F1 Score: 0.803\n",
      "ROC AUC: 0.5932\n"
     ]
    }
   ],
   "source": [
    "model_lgb = LGBMClassifier(\n",
    "    random_state=42,\n",
    "    num_leaves=64,\n",
    "    min_child_samples=40,\n",
    "    max_depth=64,\n",
    "    learning_rate=0.05\n",
    ")\n",
    "\n",
    "\n",
    "model_lgb.fit(X_train, y_train)\n",
    "\n",
    "\n",
    "y_pred_lgb = model_lgb.predict(X_test)\n",
    "y_pred_lgb_prob = model_lgb.predict_proba(X_test)[:, 1]\n",
    "\n",
    "\n",
    "print_metrics(y_test, y_pred_lgb, y_pred_lgb_prob)\n"
   ]
  },
  {
   "cell_type": "markdown",
   "id": "f55c6a1e",
   "metadata": {},
   "source": [
    "### Confusion matrix"
   ]
  },
  {
   "cell_type": "code",
   "execution_count": 16,
   "id": "f7c1edf0",
   "metadata": {},
   "outputs": [
    {
     "name": "stdout",
     "output_type": "stream",
     "text": [
      "Confusion Matrix:\n",
      "          Predicted 0  Predicted 1\n",
      "Actual 0          355         1038\n",
      "Actual 1          162         2445\n"
     ]
    }
   ],
   "source": [
    "from sklearn.metrics import confusion_matrix\n",
    "import pandas as pd\n",
    "\n",
    "# 计算 confusion matrix\n",
    "cm = confusion_matrix(y_test, y_pred_lgb)\n",
    "\n",
    "# 用 pandas 打印带有标签的表格\n",
    "cm_df = pd.DataFrame(cm, index=['Actual 0', 'Actual 1'], columns=['Predicted 0', 'Predicted 1'])\n",
    "\n",
    "print(\"Confusion Matrix:\")\n",
    "print(cm_df)\n"
   ]
  },
  {
   "cell_type": "markdown",
   "id": "ba4301bd",
   "metadata": {},
   "source": [
    "### Plot feature importance"
   ]
  },
  {
   "cell_type": "code",
   "execution_count": 17,
   "id": "1d548370",
   "metadata": {},
   "outputs": [
    {
     "data": {
      "text/plain": [
       "<Figure size 720x576 with 0 Axes>"
      ]
     },
     "metadata": {},
     "output_type": "display_data"
    },
    {
     "data": {
      "image/png": "[encoded data removed]",
      "text/plain": [
       "<Figure size 432x288 with 1 Axes>"
      ]
     },
     "metadata": {
      "needs_background": "light"
     },
     "output_type": "display_data"
    }
   ],
   "source": [
    "from lightgbm import LGBMClassifier, plot_importance\n",
    "import matplotlib.pyplot as plt\n",
    "\n",
    "\n",
    "plt.figure(figsize=(10, 8))\n",
    "ax = plot_importance(\n",
    "    model_lgb, \n",
    "    importance_type='split',  # 或 'gain'\n",
    "    height=0.3,               # 每个bar之间的间距（默认是0.2）\n",
    "    ax=None\n",
    ")\n",
    "plt.title(\"Top 20 Feature Importances\")\n",
    "plt.tight_layout()\n",
    "plt.show()"
   ]
  },
  {
   "cell_type": "markdown",
   "id": "88ecc5b8",
   "metadata": {},
   "source": [
    "### Automated way to drop unimportant features"
   ]
  },
  {
   "cell_type": "code",
   "execution_count": 18,
   "id": "a66f2338",
   "metadata": {},
   "outputs": [
    {
     "name": "stdout",
     "output_type": "stream",
     "text": [
      "[LightGBM] [Warning] Found whitespace in feature_names, replace with underlines\n",
      "[LightGBM] [Info] Number of positive: 10430, number of negative: 5570\n",
      "[LightGBM] [Info] Auto-choosing row-wise multi-threading, the overhead of testing was 0.000362 seconds.\n",
      "You can set `force_row_wise=true` to remove the overhead.\n",
      "And if memory is not enough, you can set `force_col_wise=true`.\n",
      "[LightGBM] [Info] Total Bins 912\n",
      "[LightGBM] [Info] Number of data points in the train set: 16000, number of used features: 28\n",
      "[LightGBM] [Info] [binary:BoostFromScore]: pavg=0.651875 -> initscore=0.627291\n",
      "[LightGBM] [Info] Start training from score 0.627291\n",
      "[LightGBM] [Warning] Found whitespace in feature_names, replace with underlines\n",
      "[LightGBM] [Info] Number of positive: 10430, number of negative: 5570\n",
      "[LightGBM] [Info] Auto-choosing row-wise multi-threading, the overhead of testing was 0.000517 seconds.\n",
      "You can set `force_row_wise=true` to remove the overhead.\n",
      "And if memory is not enough, you can set `force_col_wise=true`.\n",
      "[LightGBM] [Info] Total Bins 910\n",
      "[LightGBM] [Info] Number of data points in the train set: 16000, number of used features: 27\n",
      "[LightGBM] [Info] [binary:BoostFromScore]: pavg=0.651875 -> initscore=0.627291\n",
      "[LightGBM] [Info] Start training from score 0.627291\n",
      "[LightGBM] [Warning] Found whitespace in feature_names, replace with underlines\n",
      "[LightGBM] [Info] Number of positive: 10430, number of negative: 5570\n",
      "[LightGBM] [Info] Auto-choosing row-wise multi-threading, the overhead of testing was 0.000431 seconds.\n",
      "You can set `force_row_wise=true` to remove the overhead.\n",
      "And if memory is not enough, you can set `force_col_wise=true`.\n",
      "[LightGBM] [Info] Total Bins 908\n",
      "[LightGBM] [Info] Number of data points in the train set: 16000, number of used features: 26\n",
      "[LightGBM] [Info] [binary:BoostFromScore]: pavg=0.651875 -> initscore=0.627291\n",
      "[LightGBM] [Info] Start training from score 0.627291\n",
      "[LightGBM] [Warning] Found whitespace in feature_names, replace with underlines\n",
      "[LightGBM] [Info] Number of positive: 10430, number of negative: 5570\n",
      "[LightGBM] [Info] Auto-choosing col-wise multi-threading, the overhead of testing was 0.002201 seconds.\n",
      "You can set `force_col_wise=true` to remove the overhead.\n",
      "[LightGBM] [Info] Total Bins 906\n",
      "[LightGBM] [Info] Number of data points in the train set: 16000, number of used features: 25\n",
      "[LightGBM] [Info] [binary:BoostFromScore]: pavg=0.651875 -> initscore=0.627291\n",
      "[LightGBM] [Info] Start training from score 0.627291\n",
      "[LightGBM] [Warning] Found whitespace in feature_names, replace with underlines\n",
      "[LightGBM] [Info] Number of positive: 10430, number of negative: 5570\n",
      "[LightGBM] [Info] Auto-choosing col-wise multi-threading, the overhead of testing was 0.001995 seconds.\n",
      "You can set `force_col_wise=true` to remove the overhead.\n",
      "[LightGBM] [Info] Total Bins 904\n",
      "[LightGBM] [Info] Number of data points in the train set: 16000, number of used features: 24\n",
      "[LightGBM] [Info] [binary:BoostFromScore]: pavg=0.651875 -> initscore=0.627291\n",
      "[LightGBM] [Info] Start training from score 0.627291\n",
      "[LightGBM] [Warning] Found whitespace in feature_names, replace with underlines\n",
      "[LightGBM] [Info] Number of positive: 10430, number of negative: 5570\n",
      "[LightGBM] [Info] Auto-choosing col-wise multi-threading, the overhead of testing was 0.001962 seconds.\n",
      "You can set `force_col_wise=true` to remove the overhead.\n",
      "[LightGBM] [Info] Total Bins 902\n",
      "[LightGBM] [Info] Number of data points in the train set: 16000, number of used features: 23\n",
      "[LightGBM] [Info] [binary:BoostFromScore]: pavg=0.651875 -> initscore=0.627291\n",
      "[LightGBM] [Info] Start training from score 0.627291\n",
      "Highest Accuracy: 0.699250 by dropping columns: ['HighBP', 'Sleep disorder']\n"
     ]
    }
   ],
   "source": [
    "from lightgbm import LGBMClassifier\n",
    "from sklearn.metrics import accuracy_score\n",
    "import pandas as pd\n",
    "\n",
    "# model_lgb is trained based on full columns\n",
    "importance_df = pd.DataFrame({\n",
    "    'feature': model_lgb.feature_name_,\n",
    "    'importance': model_lgb.feature_importances_\n",
    "}).sort_values(by='importance', ascending=True)\n",
    "\n",
    "\n",
    "accuracy_list = []\n",
    "dropped_lists = []\n",
    "\n",
    "\n",
    "def drop_col(df, dropped_columns):\n",
    "    return df.drop(columns=dropped_columns)\n",
    "\n",
    "\n",
    "num_drop_at_most = 5\n",
    "# \n",
    "for n in range(0, num_drop_at_most+1):\n",
    "    # 步骤 2-3：取前 n 个最不重要的特征，替换下划线为空格\n",
    "    dropped_columns = importance_df.head(n)['feature'].str.replace('_', ' ', regex=False).tolist()\n",
    "    dropped_lists.append(dropped_columns)\n",
    "\n",
    "    # 步骤 4：构造新的训练集与测试集\n",
    "    X_train_new = drop_col(X_train, dropped_columns)\n",
    "    X_test_new = drop_col(X_test, dropped_columns)\n",
    "\n",
    "    # 步骤 5：训练模型\n",
    "    model = LGBMClassifier(random_state=42)\n",
    "    \n",
    "    model.fit(X_train_new, y_train)\n",
    "    y_pred = model.predict(X_test_new)\n",
    "    \n",
    "    # Calculate accuracy\n",
    "    acc = round(accuracy_score(y_test, y_pred), 6)\n",
    "    accuracy_list.append(acc)\n",
    "\n",
    "# 步骤 7：筛选最高 accuracy\n",
    "best_idx = accuracy_list.index(max(accuracy_list))\n",
    "print(f\"Highest Accuracy: {accuracy_list[best_idx]:.6f} by dropping columns: {dropped_lists[best_idx]}\")\n",
    "\n"
   ]
  },
  {
   "cell_type": "markdown",
   "id": "d1c234f9",
   "metadata": {},
   "source": [
    "##### Based on this, we drop `HighBP` and `Sleep disorder`"
   ]
  },
  {
   "cell_type": "code",
   "execution_count": 19,
   "id": "af8fd1f3",
   "metadata": {},
   "outputs": [],
   "source": [
    "optimal_dropped_columns = ['HighBP','Sleep disorder']\n",
    "\n",
    "X_train_selected = drop_col(X_train, dropped_columns)\n",
    "X_test_selected = drop_col(X_test, dropped_columns)"
   ]
  },
  {
   "cell_type": "markdown",
   "id": "07235279",
   "metadata": {},
   "source": [
    "### Random search hyperparameter\n",
    "### Note: as there are finite iterations for random search, we only use the result as a reference"
   ]
  },
  {
   "cell_type": "code",
   "execution_count": 20,
   "id": "456883ed",
   "metadata": {},
   "outputs": [
    {
     "name": "stdout",
     "output_type": "stream",
     "text": [
      "Fitting 5 folds for each of 200 candidates, totalling 1000 fits\n",
      "Best AUC: 0.6032478642777102\n",
      "Best Params: {'num_leaves': 138, 'min_child_samples': 21, 'max_depth': 3, 'learning_rate': 0.12999999999999998, 'colsample_bytree': 0.7}\n"
     ]
    }
   ],
   "source": [
    "from lightgbm import LGBMClassifier\n",
    "from sklearn.model_selection import RandomizedSearchCV\n",
    "from sklearn.metrics import roc_auc_score, make_scorer\n",
    "import numpy as np\n",
    "import warnings\n",
    "warnings.filterwarnings('ignore')\n",
    "\n",
    "param_dist = {\n",
    "    'num_leaves': np.arange(20, 151),\n",
    "    'max_depth': np.arange(3, 16),\n",
    "    'learning_rate': np.linspace(0.01, 0.3, 30),\n",
    "    'min_child_samples': np.arange(10, 101),\n",
    "    'colsample_bytree': np.linspace(0.6, 1.0, 5)\n",
    "}\n",
    "\n",
    "\n",
    "lgb_rs = LGBMClassifier(random_state=42, verbose=-1)\n",
    "\n",
    "# 用 AUC 作为评分标准\n",
    "scorer = make_scorer(roc_auc_score, needs_proba=True)\n",
    "\n",
    "# 随机搜索\n",
    "random_search = RandomizedSearchCV(\n",
    "    estimator=lgb_rs,\n",
    "    param_distributions=param_dist,\n",
    "    n_iter=200,  # 最多搜索 200 组参数\n",
    "    scoring='roc_auc',\n",
    "    cv=5,\n",
    "    verbose=1,\n",
    "    random_state=42,\n",
    "    n_jobs=1\n",
    ")\n",
    "\n",
    "\n",
    "random_search.fit(X_train_selected, y_train)\n",
    "\n",
    "# 输出最佳参数和AUC\n",
    "print(\"Best AUC:\", random_search.best_score_)\n",
    "print(\"Best Params:\", random_search.best_params_)\n"
   ]
  },
  {
   "cell_type": "markdown",
   "id": "35cd51cd",
   "metadata": {},
   "source": [
    "### Final model"
   ]
  },
  {
   "cell_type": "code",
   "execution_count": 21,
   "id": "762cafc2",
   "metadata": {},
   "outputs": [
    {
     "name": "stdout",
     "output_type": "stream",
     "text": [
      "Accuracy: 0.7005\n",
      "Recall: 0.9382\n",
      "F1 Score: 0.8033\n",
      "ROC AUC: 0.6074\n"
     ]
    }
   ],
   "source": [
    "\n",
    "model_lgb_final = LGBMClassifier(\n",
    "    # random_state=42,\n",
    "    num_leaves=36,\n",
    "    min_child_samples=30,\n",
    "    max_depth=3,\n",
    "    learning_rate=0.02,\n",
    "    colsample_bytree=0.7\n",
    ")\n",
    "\n",
    "\n",
    "model_lgb_final.fit(X_train_selected, y_train)\n",
    "\n",
    "\n",
    "y_pred_lgb_final = model_lgb_final.predict(X_test_selected)\n",
    "y_pred_lgb_prob_final = model_lgb_final.predict_proba(X_test_selected)[:, 1]\n",
    "\n",
    "\n",
    "print_metrics(y_test, y_pred_lgb_final, y_pred_lgb_prob_final)\n"
   ]
  },
  {
   "cell_type": "markdown",
   "id": "844fdbfd",
   "metadata": {},
   "source": [
    "### Using the whole dataset"
   ]
  },
  {
   "cell_type": "code",
   "execution_count": 22,
   "id": "2059fe67",
   "metadata": {},
   "outputs": [
    {
     "name": "stdout",
     "output_type": "stream",
     "text": [
      "Accuracy: 0.698\n",
      "Recall: 0.9382\n",
      "F1 Score: 0.802\n",
      "ROC AUC: 0.6272\n"
     ]
    }
   ],
   "source": [
    "X_final = drop_col(X, dropped_columns)\n",
    "\n",
    "model_lgb_whole = LGBMClassifier(\n",
    "    # random_state=42,\n",
    "    num_leaves=36,\n",
    "    min_child_samples=30,\n",
    "    max_depth=3,\n",
    "    learning_rate=0.02,\n",
    "    colsample_bytree=0.7\n",
    ")\n",
    "\n",
    "\n",
    "model_lgb_whole.fit(X_final, y)\n",
    "\n",
    "\n",
    "y_lgb_final = model_lgb_whole.predict(X_final)\n",
    "y_lgb_prob_final = model_lgb_whole.predict_proba(X_final)[:, 1]\n",
    "\n",
    "\n",
    "print_metrics(y, y_lgb_final, y_lgb_prob_final)\n"
   ]
  },
  {
   "cell_type": "markdown",
   "id": "0c39acb2",
   "metadata": {},
   "source": [
    "# XGBoost imbalance"
   ]
  },
  {
   "cell_type": "code",
   "execution_count": 23,
   "id": "80d98f86",
   "metadata": {},
   "outputs": [
    {
     "name": "stdout",
     "output_type": "stream",
     "text": [
      "Class distribution: Counter({1: 10430, 0: 5570})\n",
      "scale_pos_weight: 0.5340364333652924\n"
     ]
    }
   ],
   "source": [
    "# handling class imbalance\n",
    "from collections import Counter\n",
    "import xgboost as xgb\n",
    "\n",
    "# 1. Count the distribution in training set\n",
    "counter = Counter(y_train)\n",
    "print(\"Class distribution:\", counter)\n",
    "\n",
    "# 2. Compute scale_pos_weight = #negative / #positive\n",
    "# Assuming '1' is the positive class (Dry Eye Disease present)\n",
    "scale_pos_weight = counter[0] / counter[1]\n",
    "print(\"scale_pos_weight:\", scale_pos_weight)\n"
   ]
  },
  {
   "cell_type": "code",
   "execution_count": 24,
   "id": "90d22626",
   "metadata": {},
   "outputs": [
    {
     "name": "stdout",
     "output_type": "stream",
     "text": [
      "Accuracy: 0.59225\n",
      "Recall: 0.6923667050249329\n",
      "F1 Score: 0.6887998473573745\n",
      "ROC AUC: 0.5753563697714833\n",
      "\n",
      "Classification Report:\n",
      "               precision    recall  f1-score   support\n",
      "\n",
      "           0       0.41      0.40      0.41      1393\n",
      "           1       0.69      0.69      0.69      2607\n",
      "\n",
      "    accuracy                           0.59      4000\n",
      "   macro avg       0.55      0.55      0.55      4000\n",
      "weighted avg       0.59      0.59      0.59      4000\n",
      "\n"
     ]
    }
   ],
   "source": [
    "model_scale_pos_weight = xgb.XGBClassifier(\n",
    "    eval_metric='logloss',\n",
    "    random_state=42,\n",
    "    scale_pos_weight=scale_pos_weight\n",
    ")\n",
    "\n",
    "test_performance(model_scale_pos_weight, X_train, y_train, X_test, y_test)"
   ]
  },
  {
   "cell_type": "markdown",
   "id": "1eca5d6b",
   "metadata": {},
   "source": [
    "# Random Undersampling"
   ]
  },
  {
   "cell_type": "code",
   "execution_count": 25,
   "id": "c7199e89",
   "metadata": {},
   "outputs": [
    {
     "name": "stdout",
     "output_type": "stream",
     "text": [
      "Class distribution after undersampling:\n",
      "0    5570\n",
      "1    5570\n",
      "Name: Dry Eye Disease, dtype: int64\n"
     ]
    }
   ],
   "source": [
    "from imblearn.under_sampling import RandomUnderSampler\n",
    "\n",
    "undersampler = RandomUnderSampler(random_state=42)\n",
    "X_train_under_sampled, y_train_under_sampled = undersampler.fit_resample(X_train, y_train)\n",
    "\n",
    "print(\"Class distribution after undersampling:\")\n",
    "print(pd.Series(y_train_under_sampled).value_counts())"
   ]
  },
  {
   "cell_type": "code",
   "execution_count": 26,
   "id": "26f36558",
   "metadata": {},
   "outputs": [
    {
     "name": "stdout",
     "output_type": "stream",
     "text": [
      "Accuracy: 0.563\n",
      "Recall: 0.5949367088607594\n",
      "F1 Score: 0.6395876288659793\n",
      "ROC AUC: 0.5731606137432739\n",
      "\n",
      "Classification Report:\n",
      "               precision    recall  f1-score   support\n",
      "\n",
      "           0       0.40      0.50      0.45      1393\n",
      "           1       0.69      0.59      0.64      2607\n",
      "\n",
      "    accuracy                           0.56      4000\n",
      "   macro avg       0.55      0.55      0.54      4000\n",
      "weighted avg       0.59      0.56      0.57      4000\n",
      "\n"
     ]
    }
   ],
   "source": [
    "model_undersampled = xgb.XGBClassifier(eval_metric='logloss', random_state=42)\n",
    "test_performance(model_undersampled, X_train_under_sampled, y_train_under_sampled, X_test, y_test)\n"
   ]
  },
  {
   "cell_type": "markdown",
   "id": "5706f966",
   "metadata": {},
   "source": [
    "# Random Oversampling"
   ]
  },
  {
   "cell_type": "code",
   "execution_count": 27,
   "id": "6ad9a869",
   "metadata": {},
   "outputs": [
    {
     "name": "stdout",
     "output_type": "stream",
     "text": [
      "Class distribution after oversampling:\n",
      "0    10430\n",
      "1    10430\n",
      "Name: Dry Eye Disease, dtype: int64\n"
     ]
    }
   ],
   "source": [
    "from imblearn.over_sampling import RandomOverSampler\n",
    "\n",
    "oversampler = RandomOverSampler(random_state=42)\n",
    "X_train_over_sampled, y_train_over_sampled = oversampler.fit_resample(X_train, y_train)\n",
    "\n",
    "print(\"Class distribution after oversampling:\")\n",
    "print(pd.Series(y_train_over_sampled).value_counts())"
   ]
  },
  {
   "cell_type": "code",
   "execution_count": 28,
   "id": "d4c48bf1",
   "metadata": {},
   "outputs": [
    {
     "name": "stdout",
     "output_type": "stream",
     "text": [
      "Accuracy: 0.61875\n",
      "Recall: 0.7330264672036824\n",
      "F1 Score: 0.7147933420609687\n",
      "ROC AUC: 0.5870517858622941\n",
      "\n",
      "Classification Report:\n",
      "               precision    recall  f1-score   support\n",
      "\n",
      "           0       0.45      0.40      0.43      1393\n",
      "           1       0.70      0.73      0.71      2607\n",
      "\n",
      "    accuracy                           0.62      4000\n",
      "   macro avg       0.57      0.57      0.57      4000\n",
      "weighted avg       0.61      0.62      0.61      4000\n",
      "\n"
     ]
    }
   ],
   "source": [
    "model_oversampled = xgb.XGBClassifier(eval_metric='logloss', random_state=42)\n",
    "test_performance(model_oversampled, X_train_over_sampled, y_train_over_sampled, X_test, y_test)\n"
   ]
  },
  {
   "cell_type": "markdown",
   "id": "7ca2feb8",
   "metadata": {},
   "source": [
    "# Smote"
   ]
  },
  {
   "cell_type": "code",
   "execution_count": 29,
   "id": "a01deafc",
   "metadata": {},
   "outputs": [
    {
     "name": "stdout",
     "output_type": "stream",
     "text": [
      "Class distribution after SMOTE:\n",
      "0    10430\n",
      "1    10430\n",
      "Name: Dry Eye Disease, dtype: int64\n"
     ]
    }
   ],
   "source": [
    "from imblearn.over_sampling import SMOTE\n",
    "\n",
    "smote = SMOTE(random_state=42)\n",
    "X_train_smote_sampled, y_train_smote_sampled = smote.fit_resample(X_train, y_train)\n",
    "\n",
    "print(\"Class distribution after SMOTE:\")\n",
    "print(pd.Series(y_train_smote_sampled).value_counts())"
   ]
  },
  {
   "cell_type": "code",
   "execution_count": 30,
   "id": "2826f7b1",
   "metadata": {},
   "outputs": [
    {
     "name": "stdout",
     "output_type": "stream",
     "text": [
      "Accuracy: 0.63625\n",
      "Recall: 0.7832757959340237\n",
      "F1 Score: 0.7373172052717096\n",
      "ROC AUC: 0.5925498499126132\n",
      "\n",
      "Classification Report:\n",
      "               precision    recall  f1-score   support\n",
      "\n",
      "           0       0.47      0.36      0.41      1393\n",
      "           1       0.70      0.78      0.74      2607\n",
      "\n",
      "    accuracy                           0.64      4000\n",
      "   macro avg       0.58      0.57      0.57      4000\n",
      "weighted avg       0.62      0.64      0.62      4000\n",
      "\n"
     ]
    }
   ],
   "source": [
    "model_smote = xgb.XGBClassifier(eval_metric='logloss', random_state=42)\n",
    "test_performance(model_smote, X_train_smote_sampled, y_train_smote_sampled, X_test, y_test)\n"
   ]
  },
  {
   "cell_type": "markdown",
   "id": "c787f1a5",
   "metadata": {},
   "source": [
    "# Finetune"
   ]
  },
  {
   "cell_type": "code",
   "execution_count": 31,
   "id": "fcfcbfa6",
   "metadata": {},
   "outputs": [
    {
     "name": "stdout",
     "output_type": "stream",
     "text": [
      "Accuracy: 0.69925\n",
      "Recall: 0.9359416954353663\n",
      "F1 Score: 0.8022357389445997\n",
      "ROC AUC: 0.6087069959915199\n",
      "\n",
      "Classification Report:\n",
      "               precision    recall  f1-score   support\n",
      "\n",
      "           0       0.68      0.26      0.37      1393\n",
      "           1       0.70      0.94      0.80      2607\n",
      "\n",
      "    accuracy                           0.70      4000\n",
      "   macro avg       0.69      0.60      0.59      4000\n",
      "weighted avg       0.69      0.70      0.65      4000\n",
      "\n"
     ]
    }
   ],
   "source": [
    "model_finetuned = xgb.XGBClassifier(\n",
    "    eval_metric='logloss',\n",
    "    random_state=42,\n",
    "    scale_pos_weight=scale_pos_weight,           \n",
    "    learning_rate=0.01,                  \n",
    "    n_estimators=200,                     \n",
    "    max_depth=3,                          \n",
    "    subsample=0.8, colsample_bytree=0.8   \n",
    ")\n",
    "test_performance(model_finetuned, X_train, y_train, X_test, y_test)"
   ]
  },
  {
   "cell_type": "code",
   "execution_count": 32,
   "id": "b34863d5",
   "metadata": {},
   "outputs": [
    {
     "name": "stdout",
     "output_type": "stream",
     "text": [
      "Fitting 3 folds for each of 243 candidates, totalling 729 fits\n",
      "Best Params: {'colsample_bytree': 1.0, 'learning_rate': 0.01, 'max_depth': 3, 'n_estimators': 100, 'scale_pos_weight': 0.5340364333652924, 'subsample': 0.6}\n",
      "Best Score: 0.8013971479508557\n"
     ]
    }
   ],
   "source": [
    "from sklearn.model_selection import GridSearchCV\n",
    "import xgboost as xgb\n",
    "\n",
    "param_grid = {\n",
    "    'learning_rate': [0.01, 0.05, 0.1],\n",
    "    'n_estimators': [100, 200, 300],\n",
    "    'max_depth': [3, 5, 7],\n",
    "    'subsample': [0.6, 0.8, 1.0],\n",
    "    'colsample_bytree': [0.6, 0.8, 1.0],\n",
    "    'scale_pos_weight': [scale_pos_weight]\n",
    "}\n",
    "\n",
    "model = xgb.XGBClassifier(\n",
    "    eval_metric='logloss',\n",
    "    random_state=42\n",
    ")\n",
    "\n",
    "grid_search = GridSearchCV(\n",
    "    estimator=model,\n",
    "    param_grid=param_grid,\n",
    "    scoring='f1', \n",
    "    cv=3,\n",
    "    verbose=1,\n",
    "    n_jobs=-1\n",
    ")\n",
    "\n",
    "grid_search.fit(X_train, y_train)\n",
    "print(\"Best Params:\", grid_search.best_params_)\n",
    "print(\"Best Score:\", grid_search.best_score_)\n"
   ]
  },
  {
   "cell_type": "code",
   "execution_count": 33,
   "id": "ebe5899f",
   "metadata": {},
   "outputs": [
    {
     "name": "stdout",
     "output_type": "stream",
     "text": [
      "Accuracy: 0.7005\n",
      "Recall: 0.9382431914077484\n",
      "F1 Score: 0.8032840722495895\n",
      "ROC AUC: 0.6088182432244515\n",
      "\n",
      "Classification Report:\n",
      "               precision    recall  f1-score   support\n",
      "\n",
      "           0       0.69      0.26      0.37      1393\n",
      "           1       0.70      0.94      0.80      2607\n",
      "\n",
      "    accuracy                           0.70      4000\n",
      "   macro avg       0.70      0.60      0.59      4000\n",
      "weighted avg       0.70      0.70      0.65      4000\n",
      "\n"
     ]
    }
   ],
   "source": [
    "model_best_grid_search = xgb.XGBClassifier(\n",
    "    eval_metric='logloss',\n",
    "    random_state=42,\n",
    "    scale_pos_weight=scale_pos_weight,           \n",
    "    learning_rate=0.01,                  \n",
    "    n_estimators=100,                     \n",
    "    max_depth=3,                          \n",
    "    subsample=0.6, colsample_bytree=1.0  \n",
    ")\n",
    "test_performance(model_best_grid_search, X_train, y_train, X_test, y_test)"
   ]
  },
  {
   "cell_type": "markdown",
   "id": "195d6be0",
   "metadata": {},
   "source": [
    "# LightGBM Imbalance"
   ]
  },
  {
   "cell_type": "code",
   "execution_count": 34,
   "id": "2e20e074",
   "metadata": {},
   "outputs": [
    {
     "name": "stdout",
     "output_type": "stream",
     "text": [
      "scale_pos_weight: 0.5340364333652924\n",
      "\n",
      "Scale Pos Weight Model Performance:\n",
      "Accuracy: 0.654\n",
      "Recall: 0.8086\n",
      "F1 Score: 0.7529\n",
      "ROC AUC: 0.5941\n"
     ]
    }
   ],
   "source": [
    "# scale_pos_weight\n",
    "print(\"scale_pos_weight:\", scale_pos_weight)\n",
    "\n",
    "lgb_scale_pos_weight_model = LGBMClassifier(\n",
    "    random_state=42,\n",
    "    num_leaves=64,\n",
    "    min_child_samples=40,\n",
    "    max_depth=64,\n",
    "    learning_rate=0.05,\n",
    "    scale_pos_weight=scale_pos_weight\n",
    ")\n",
    "\n",
    "lgb_scale_pos_weight_model.fit(X_train, y_train)\n",
    "\n",
    "y_pred_lgb_scale_pos_weight = lgb_scale_pos_weight_model.predict(X_test)\n",
    "y_pred_lgb_scale_pos_weight_prob = lgb_scale_pos_weight_model.predict_proba(X_test)[:, 1]\n",
    "\n",
    "print('\\nScale Pos Weight Model Performance:')\n",
    "print_metrics(y_test, y_pred_lgb_scale_pos_weight, y_pred_lgb_scale_pos_weight_prob)"
   ]
  },
  {
   "cell_type": "code",
   "execution_count": 35,
   "id": "39f15432",
   "metadata": {},
   "outputs": [
    {
     "name": "stdout",
     "output_type": "stream",
     "text": [
      "Random Undersampling Class Distribution:\n",
      "0    5570\n",
      "1    5570\n",
      "Name: Dry Eye Disease, dtype: int64\n",
      "\n",
      "Random Undersampling Model Performance:\n",
      "Accuracy: 0.6115\n",
      "Recall: 0.71\n",
      "F1 Score: 0.7043\n",
      "ROC AUC: 0.5931\n"
     ]
    }
   ],
   "source": [
    "# random undersampling\n",
    "print('Random Undersampling Class Distribution:')\n",
    "print(pd.Series(y_train_under_sampled).value_counts())\n",
    "\n",
    "lgb_undersampled_model = LGBMClassifier(\n",
    "    random_state=42,\n",
    "    num_leaves=64,\n",
    "    min_child_samples=40,\n",
    "    max_depth=64,\n",
    "    learning_rate=0.05\n",
    ")\n",
    "\n",
    "lgb_undersampled_model.fit(X_train_under_sampled, y_train_under_sampled)\n",
    "y_pred_lgb_undersampled = lgb_undersampled_model.predict(X_test)\n",
    "y_pred_lgb_undersampled_prob = lgb_undersampled_model.predict_proba(X_test)[:, 1]\n",
    "\n",
    "print('\\nRandom Undersampling Model Performance:')\n",
    "print_metrics(y_test, y_pred_lgb_undersampled, y_pred_lgb_undersampled_prob)"
   ]
  },
  {
   "cell_type": "code",
   "execution_count": 36,
   "id": "a7b6d965",
   "metadata": {},
   "outputs": [
    {
     "name": "stdout",
     "output_type": "stream",
     "text": [
      "Random Oversampling Class Distribution:\n",
      "0    10430\n",
      "1    10430\n",
      "Name: Dry Eye Disease, dtype: int64\n",
      "\n",
      "Random Oversampling Model Performance:\n",
      "Accuracy: 0.653\n",
      "Recall: 0.822\n",
      "F1 Score: 0.7554\n",
      "ROC AUC: 0.5953\n"
     ]
    }
   ],
   "source": [
    "# random oversampling\n",
    "print('Random Oversampling Class Distribution:')\n",
    "print(pd.Series(y_train_over_sampled).value_counts())\n",
    "\n",
    "lgb_oversampled_model = LGBMClassifier(\n",
    "    random_state=42,\n",
    "    num_leaves=64,\n",
    "    min_child_samples=40,\n",
    "    max_depth=64,\n",
    "    learning_rate=0.05\n",
    ")\n",
    "\n",
    "lgb_oversampled_model.fit(X_train_over_sampled, y_train_over_sampled)\n",
    "y_pred_lgb_oversampled = lgb_oversampled_model.predict(X_test)\n",
    "y_pred_lgb_oversampled_prob = lgb_oversampled_model.predict_proba(X_test)[:, 1]\n",
    "\n",
    "print('\\nRandom Oversampling Model Performance:')\n",
    "print_metrics(y_test, y_pred_lgb_oversampled, y_pred_lgb_oversampled_prob)"
   ]
  },
  {
   "cell_type": "code",
   "execution_count": 37,
   "id": "9af2472d",
   "metadata": {},
   "outputs": [
    {
     "name": "stdout",
     "output_type": "stream",
     "text": [
      "SMOTE Class Distribution:\n",
      "0    10430\n",
      "1    10430\n",
      "Name: Dry Eye Disease, dtype: int64\n",
      "\n",
      "SMOTE Model Performance:\n",
      "Accuracy: 0.6715\n",
      "Recall: 0.8642\n",
      "F1 Score: 0.7742\n",
      "ROC AUC: 0.6039\n"
     ]
    }
   ],
   "source": [
    "# smote\n",
    "print('SMOTE Class Distribution:')\n",
    "print(pd.Series(y_train_smote_sampled).value_counts())\n",
    "\n",
    "lgb_smote_model = LGBMClassifier(\n",
    "    random_state=42,\n",
    "    num_leaves=64,\n",
    "    min_child_samples=40,\n",
    "    max_depth=64,\n",
    "    learning_rate=0.05\n",
    ")\n",
    "\n",
    "lgb_smote_model.fit(X_train_smote_sampled, y_train_smote_sampled)\n",
    "y_pred_lgb_smote = lgb_smote_model.predict(X_test)\n",
    "y_pred_lgb_smote_prob = lgb_smote_model.predict_proba(X_test)[:, 1]\n",
    "\n",
    "print('\\nSMOTE Model Performance:')\n",
    "print_metrics(y_test, y_pred_lgb_smote, y_pred_lgb_smote_prob)"
   ]
  }
 ],
 "metadata": {
  "kernelspec": {
   "display_name": "Python 3",
   "language": "python",
   "name": "python3"
  },
  "language_info": {
   "codemirror_mode": {
    "name": "ipython",
    "version": 3
   },
   "file_extension": ".py",
   "mimetype": "text/x-python",
   "name": "python",
   "nbconvert_exporter": "python",
   "pygments_lexer": "ipython3",
   "version": "3.8.8"
  }
 },
 "nbformat": 4,
 "nbformat_minor": 5
}
